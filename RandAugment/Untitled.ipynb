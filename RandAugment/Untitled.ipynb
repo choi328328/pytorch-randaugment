{
 "cells": [
  {
   "cell_type": "code",
   "execution_count": 8,
   "metadata": {},
   "outputs": [],
   "source": [
    "from PIL import Image\n",
    "import PIL\n",
    "import torch\n",
    "\n",
    "from torchvision.transforms import transforms"
   ]
  },
  {
   "cell_type": "code",
   "execution_count": 9,
   "metadata": {},
   "outputs": [],
   "source": [
    "transform_train = transforms.Compose([\n",
    "            transforms.RandomResizedCrop(224, scale=(0.08, 1.0), interpolation=Image.BICUBIC),\n",
    "            transforms.RandomHorizontalFlip(),\n",
    "            transforms.ColorJitter(\n",
    "                brightness=0.4,\n",
    "                contrast=0.4,\n",
    "                saturation=0.4,\n",
    "            ),\n",
    "            transforms.ToTensor(),\n",
    "            transforms.Normalize(mean=[0.485, 0.456, 0.406], std=[0.229, 0.224, 0.225])\n",
    "        ])"
   ]
  },
  {
   "cell_type": "code",
   "execution_count": 10,
   "metadata": {},
   "outputs": [],
   "source": [
    "transform_train.transforms.insert(0,RandAugment(1,3))"
   ]
  },
  {
   "cell_type": "code",
   "execution_count": 23,
   "metadata": {},
   "outputs": [],
   "source": [
    "x=torch.randn(10,5)"
   ]
  },
  {
   "cell_type": "code",
   "execution_count": 28,
   "metadata": {},
   "outputs": [
    {
     "name": "stdout",
     "output_type": "stream",
     "text": [
      "Object `x.new()` not found.\n"
     ]
    }
   ],
   "source": [
    "?x.new()"
   ]
  },
  {
   "cell_type": "code",
   "execution_count": 25,
   "metadata": {},
   "outputs": [
    {
     "data": {
      "text/plain": [
       "tensor([4.0152e+15, 4.5678e-41, 8.3808e-04, 3.0859e-41, 2.3694e-38, 2.3694e-38,\n",
       "        2.3694e-38, 2.3694e-38, 2.3694e-38, 2.3694e-38])"
      ]
     },
     "execution_count": 25,
     "metadata": {},
     "output_type": "execute_result"
    }
   ],
   "source": [
    "x.new(10)"
   ]
  },
  {
   "cell_type": "code",
   "execution_count": 22,
   "metadata": {},
   "outputs": [
    {
     "data": {
      "text/plain": [
       "tensor([8.4073e-04, 3.0859e-41, 8.1938e-04, 3.0859e-41, 6.1972e-04, 7.2443e+22,\n",
       "        1.7728e+28, 7.0367e+22, 3.7771e-08, 1.0681e-05])"
      ]
     },
     "execution_count": 22,
     "metadata": {},
     "output_type": "execute_result"
    }
   ],
   "source": [
    "torch.randn(10,5).new(10)"
   ]
  },
  {
   "cell_type": "code",
   "execution_count": 13,
   "metadata": {},
   "outputs": [
    {
     "ename": "NameError",
     "evalue": "name 'Transform' is not defined",
     "output_type": "error",
     "traceback": [
      "\u001b[0;31m\u001b[0m",
      "\u001b[0;31mNameError\u001b[0mTraceback (most recent call last)",
      "\u001b[0;32m<ipython-input-13-4761ccfe8a88>\u001b[0m in \u001b[0;36m<module>\u001b[0;34m\u001b[0m\n\u001b[0;32m----> 1\u001b[0;31m \u001b[0;32mclass\u001b[0m \u001b[0mTSIdentity\u001b[0m\u001b[0;34m(\u001b[0m\u001b[0mTransform\u001b[0m\u001b[0;34m)\u001b[0m\u001b[0;34m:\u001b[0m\u001b[0;34m\u001b[0m\u001b[0;34m\u001b[0m\u001b[0m\n\u001b[0m\u001b[1;32m      2\u001b[0m     \u001b[0;34m\"Applies the identity tfm to a `TSTensor` batch\"\u001b[0m\u001b[0;34m\u001b[0m\u001b[0;34m\u001b[0m\u001b[0m\n\u001b[1;32m      3\u001b[0m     \u001b[0morder\u001b[0m \u001b[0;34m=\u001b[0m \u001b[0;36m90\u001b[0m\u001b[0;34m\u001b[0m\u001b[0;34m\u001b[0m\u001b[0m\n\u001b[1;32m      4\u001b[0m     \u001b[0;32mdef\u001b[0m \u001b[0m__init__\u001b[0m\u001b[0;34m(\u001b[0m\u001b[0mself\u001b[0m\u001b[0;34m,\u001b[0m \u001b[0mmagnitude\u001b[0m\u001b[0;34m=\u001b[0m\u001b[0;36m0.\u001b[0m\u001b[0;34m,\u001b[0m \u001b[0;34m**\u001b[0m\u001b[0mkwargs\u001b[0m\u001b[0;34m)\u001b[0m\u001b[0;34m:\u001b[0m \u001b[0mself\u001b[0m\u001b[0;34m.\u001b[0m\u001b[0mmagnitude\u001b[0m \u001b[0;34m=\u001b[0m \u001b[0mmagnitude\u001b[0m\u001b[0;34m\u001b[0m\u001b[0;34m\u001b[0m\u001b[0m\n\u001b[1;32m      5\u001b[0m     \u001b[0;32mdef\u001b[0m \u001b[0mencodes\u001b[0m\u001b[0;34m(\u001b[0m\u001b[0mself\u001b[0m\u001b[0;34m,\u001b[0m \u001b[0mo\u001b[0m\u001b[0;34m:\u001b[0m \u001b[0mTSTensor\u001b[0m\u001b[0;34m)\u001b[0m\u001b[0;34m:\u001b[0m \u001b[0;32mreturn\u001b[0m \u001b[0mo\u001b[0m\u001b[0;34m\u001b[0m\u001b[0;34m\u001b[0m\u001b[0m\n",
      "\u001b[0;31mNameError\u001b[0m: name 'Transform' is not defined"
     ]
    }
   ],
   "source": [
    "class TSIdentity(Transform):\n",
    "    \"Applies the identity tfm to a `TSTensor` batch\"\n",
    "    order = 90\n",
    "    def __init__(self, magnitude=0., **kwargs): self.magnitude = magnitude\n",
    "    def encodes(self, o: TSTensor): return o"
   ]
  },
  {
   "cell_type": "code",
   "execution_count": 14,
   "metadata": {},
   "outputs": [],
   "source": [
    "def MagNoise(sig, v):\n",
    "    return transforms.Lambda(lambda x: x + torch.normal(0, v, (1, x.shape[-1]), dtype=o.dtype, device=o.device))"
   ]
  },
  {
   "cell_type": "code",
   "execution_count": 15,
   "metadata": {},
   "outputs": [
    {
     "ename": "TypeError",
     "evalue": "MagNoise() missing 2 required positional arguments: 'sig' and 'v'",
     "output_type": "error",
     "traceback": [
      "\u001b[0;31m\u001b[0m",
      "\u001b[0;31mTypeError\u001b[0mTraceback (most recent call last)",
      "\u001b[0;32m<ipython-input-15-3d1611d34c6b>\u001b[0m in \u001b[0;36m<module>\u001b[0;34m\u001b[0m\n\u001b[0;32m----> 1\u001b[0;31m \u001b[0mMagNoise\u001b[0m\u001b[0;34m(\u001b[0m\u001b[0;34m)\u001b[0m\u001b[0;34m\u001b[0m\u001b[0;34m\u001b[0m\u001b[0m\n\u001b[0m",
      "\u001b[0;31mTypeError\u001b[0m: MagNoise() missing 2 required positional arguments: 'sig' and 'v'"
     ]
    }
   ],
   "source": [
    "MagNoise()"
   ]
  },
  {
   "cell_type": "code",
   "execution_count": 16,
   "metadata": {},
   "outputs": [],
   "source": [
    "x=torch.randn(2,60)"
   ]
  },
  {
   "cell_type": "code",
   "execution_count": 17,
   "metadata": {},
   "outputs": [],
   "source": [
    "v=0.2"
   ]
  },
  {
   "cell_type": "code",
   "execution_count": 20,
   "metadata": {},
   "outputs": [
    {
     "data": {
      "text/plain": [
       "tensor([[-0.1492, -1.8261, -0.0730,  1.2987,  0.2485, -0.4115,  0.7376,  0.1447,\n",
       "         -0.5095,  1.9805,  0.8510,  0.0825, -0.7728,  0.7053, -1.0807,  0.1666,\n",
       "         -0.9111, -0.0700, -0.1259,  1.8583,  0.3308,  0.5093, -1.2698, -0.4858,\n",
       "         -0.1225,  1.4554,  1.2177,  0.0732,  0.3400, -0.8169,  0.7594, -0.9859,\n",
       "          0.3768,  1.1122, -1.9316,  0.0469,  0.6662, -0.4934,  0.7402, -0.4156,\n",
       "         -1.4344,  0.7364, -0.7693, -1.8728,  1.6343,  0.6194, -0.4668,  0.0209,\n",
       "          0.3549, -1.0357, -1.0556, -1.0227, -0.0636,  1.3156, -1.0193, -0.8522,\n",
       "          0.4838, -2.4667,  2.0858, -0.1311],\n",
       "        [-0.6787,  1.4303,  2.6095,  0.1984,  0.9222, -2.0364, -0.1814, -2.2953,\n",
       "          0.5205, -0.5144,  1.8555, -0.4702,  1.2573,  0.3802,  0.8035,  1.2746,\n",
       "         -0.1554,  0.7639, -2.0861,  0.4353,  1.3842, -0.7780,  1.4653, -1.0936,\n",
       "          2.2193,  0.2744, -0.8462, -0.4126,  0.5494,  1.0175, -0.0304,  1.8436,\n",
       "         -1.1497,  1.4294, -0.1185,  1.4685,  2.8088, -1.2390, -1.4837, -1.5352,\n",
       "         -0.1665,  0.3141,  2.2163, -1.0845, -0.1216, -1.9239, -0.8600, -0.3359,\n",
       "         -0.4219,  0.8569, -0.0059, -0.6447,  0.0247,  0.0811, -0.2707, -0.5500,\n",
       "         -0.6429,  0.0725,  0.0175,  0.4263]])"
      ]
     },
     "execution_count": 20,
     "metadata": {},
     "output_type": "execute_result"
    }
   ],
   "source": [
    "x"
   ]
  },
  {
   "cell_type": "code",
   "execution_count": 19,
   "metadata": {},
   "outputs": [
    {
     "data": {
      "text/plain": [
       "tensor([[-0.2700, -1.9427, -0.0630,  1.0774,  0.1945, -0.2150,  1.0289,  0.5202,\n",
       "         -0.8396,  1.8680,  0.6103,  0.1697, -0.6891,  0.5219, -1.5520,  0.3713,\n",
       "         -1.3347, -0.1800, -0.2124,  1.4752,  0.0305,  0.5979, -1.3773, -0.5732,\n",
       "         -0.3990,  1.4565,  1.4217,  0.3920,  0.0047, -0.7800,  0.4653, -1.0437,\n",
       "          0.3503,  0.8962, -1.9242,  0.1594,  0.5812, -0.3839,  0.6824, -0.0030,\n",
       "         -1.3261,  0.8258, -0.7698, -2.1344,  1.8929,  0.8600, -0.5603, -0.0820,\n",
       "          0.5450, -0.9023, -1.2494, -1.2968, -0.2138,  1.0975, -0.9472, -0.8912,\n",
       "          0.7745, -2.7089,  2.1815, -0.3124],\n",
       "        [-0.7995,  1.3137,  2.6195, -0.0228,  0.8682, -1.8399,  0.1100, -1.9199,\n",
       "          0.1904, -0.6270,  1.6148, -0.3830,  1.3410,  0.1968,  0.3323,  1.4792,\n",
       "         -0.5790,  0.6538, -2.1726,  0.0522,  1.0840, -0.6893,  1.3578, -1.1810,\n",
       "          1.9427,  0.2755, -0.6422, -0.0938,  0.2141,  1.0544, -0.3245,  1.7858,\n",
       "         -1.1761,  1.2134, -0.1110,  1.5810,  2.7238, -1.1295, -1.5415, -1.1227,\n",
       "         -0.0582,  0.4035,  2.2157, -1.3462,  0.1370, -1.6833, -0.9535, -0.4387,\n",
       "         -0.2318,  0.9903, -0.1997, -0.9187, -0.1255, -0.1369, -0.1986, -0.5891,\n",
       "         -0.3522, -0.1697,  0.1132,  0.2450]])"
      ]
     },
     "execution_count": 19,
     "metadata": {},
     "output_type": "execute_result"
    }
   ],
   "source": [
    "x + torch.normal(0, v, (1, x.shape[-1]), dtype=x.dtype, device=x.device)"
   ]
  },
  {
   "cell_type": "code",
   "execution_count": 30,
   "metadata": {},
   "outputs": [
    {
     "data": {
      "text/plain": [
       "<function RandomState.beta>"
      ]
     },
     "execution_count": 30,
     "metadata": {},
     "output_type": "execute_result"
    }
   ],
   "source": [
    "import numpy as np\n",
    "np.random.beta"
   ]
  },
  {
   "cell_type": "code",
   "execution_count": 33,
   "metadata": {},
   "outputs": [
    {
     "data": {
      "text/plain": [
       "6.670390640269815e-10"
      ]
     },
     "execution_count": 33,
     "metadata": {},
     "output_type": "execute_result"
    }
   ],
   "source": [
    "np.random.beta(0.1,0.1)"
   ]
  },
  {
   "cell_type": "code",
   "execution_count": 48,
   "metadata": {},
   "outputs": [],
   "source": [
    "ls = [[[[1,2,3,4,5],[6,7,8,9,10]]]]"
   ]
  },
  {
   "cell_type": "code",
   "execution_count": 53,
   "metadata": {},
   "outputs": [
    {
     "data": {
      "text/plain": [
       "torch.Size([1, 2, 5])"
      ]
     },
     "execution_count": 53,
     "metadata": {},
     "output_type": "execute_result"
    }
   ],
   "source": [
    "torch.tensor(ls)[:,0,...].shape"
   ]
  },
  {
   "cell_type": "code",
   "execution_count": 50,
   "metadata": {},
   "outputs": [
    {
     "data": {
      "text/plain": [
       "torch.Size([1, 1, 2, 5])"
      ]
     },
     "execution_count": 50,
     "metadata": {},
     "output_type": "execute_result"
    }
   ],
   "source": [
    "torch.tensor(ls).shape"
   ]
  },
  {
   "cell_type": "code",
   "execution_count": 55,
   "metadata": {},
   "outputs": [
    {
     "ename": "IndentationError",
     "evalue": "unindent does not match any outer indentation level (augmentations.py, line 87)",
     "output_type": "error",
     "traceback": [
      "Traceback \u001b[0;36m(most recent call last)\u001b[0m:\n",
      "  File \u001b[1;32m\"/opt/conda/lib/python3.7/site-packages/IPython/core/interactiveshell.py\"\u001b[0m, line \u001b[1;32m3331\u001b[0m, in \u001b[1;35mrun_code\u001b[0m\n    exec(code_obj, self.user_global_ns, self.user_ns)\n",
      "  File \u001b[1;32m\"<ipython-input-55-8e312d818e8b>\"\u001b[0m, line \u001b[1;32m2\u001b[0m, in \u001b[1;35m<module>\u001b[0m\n    from RandAugment import RandAugment\n",
      "\u001b[0;36m  File \u001b[0;32m\"/opt/conda/lib/python3.7/site-packages/RandAugment/__init__.py\"\u001b[0;36m, line \u001b[0;32m2\u001b[0;36m, in \u001b[0;35m<module>\u001b[0;36m\u001b[0m\n\u001b[0;31m    from RandAugment.augmentations import RandAugment\u001b[0m\n",
      "\u001b[0;36m  File \u001b[0;32m\"/opt/conda/lib/python3.7/site-packages/RandAugment/augmentations.py\"\u001b[0;36m, line \u001b[0;32m87\u001b[0m\n\u001b[0;31m    f=CubicSpline(np.arange(img.shape[-1]), img.cpu(), axis=-1)\u001b[0m\n\u001b[0m                                                               ^\u001b[0m\n\u001b[0;31mIndentationError\u001b[0m\u001b[0;31m:\u001b[0m unindent does not match any outer indentation level\n"
     ]
    }
   ],
   "source": [
    "from torchvision.transforms import transforms\n",
    "from RandAugment import RandAugment\n",
    "\n",
    "transform_train = transforms.Compose([\n",
    "    transforms.RandomCrop(32, padding=4),\n",
    "    transforms.RandomHorizontalFlip(),\n",
    "    transforms.ToTensor(),\n",
    "    transforms.Normalize(_CIFAR_MEAN, _CIFAR_STD),\n",
    "])\n",
    "\n",
    "# Add RandAugment with N, M(hyperparameter)\n",
    "transform_train.transforms.insert(0, RandAugment(N, M))"
   ]
  },
  {
   "cell_type": "code",
   "execution_count": null,
   "metadata": {},
   "outputs": [],
   "source": []
  }
 ],
 "metadata": {
  "kernelspec": {
   "display_name": "Python 3",
   "language": "python",
   "name": "python3"
  },
  "language_info": {
   "codemirror_mode": {
    "name": "ipython",
    "version": 3
   },
   "file_extension": ".py",
   "mimetype": "text/x-python",
   "name": "python",
   "nbconvert_exporter": "python",
   "pygments_lexer": "ipython3",
   "version": "3.7.7"
  }
 },
 "nbformat": 4,
 "nbformat_minor": 4
}
